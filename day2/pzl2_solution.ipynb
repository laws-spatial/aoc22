{
 "cells": [
  {
   "cell_type": "code",
   "execution_count": 3,
   "metadata": {},
   "outputs": [],
   "source": [
    "from pathlib import Path\n",
    "import pandas as pd\n",
    "import numpy as np"
   ]
  },
  {
   "cell_type": "code",
   "execution_count": 4,
   "metadata": {},
   "outputs": [],
   "source": [
    "# path to file\n",
    "file_str = \".\\strategy.txt\"\n",
    "file_path = Path(file_str)"
   ]
  },
  {
   "cell_type": "code",
   "execution_count": 6,
   "metadata": {},
   "outputs": [
    {
     "data": {
      "text/html": [
       "<div>\n",
       "<style scoped>\n",
       "    .dataframe tbody tr th:only-of-type {\n",
       "        vertical-align: middle;\n",
       "    }\n",
       "\n",
       "    .dataframe tbody tr th {\n",
       "        vertical-align: top;\n",
       "    }\n",
       "\n",
       "    .dataframe thead th {\n",
       "        text-align: right;\n",
       "    }\n",
       "</style>\n",
       "<table border=\"1\" class=\"dataframe\">\n",
       "  <thead>\n",
       "    <tr style=\"text-align: right;\">\n",
       "      <th></th>\n",
       "      <th>opp</th>\n",
       "      <th>result</th>\n",
       "      <th>me</th>\n",
       "      <th>my_points</th>\n",
       "      <th>outcome_points</th>\n",
       "    </tr>\n",
       "  </thead>\n",
       "  <tbody>\n",
       "    <tr>\n",
       "      <th>0</th>\n",
       "      <td>C</td>\n",
       "      <td>Z</td>\n",
       "      <td>X</td>\n",
       "      <td>1</td>\n",
       "      <td>6</td>\n",
       "    </tr>\n",
       "    <tr>\n",
       "      <th>1</th>\n",
       "      <td>C</td>\n",
       "      <td>Z</td>\n",
       "      <td>X</td>\n",
       "      <td>1</td>\n",
       "      <td>6</td>\n",
       "    </tr>\n",
       "    <tr>\n",
       "      <th>2</th>\n",
       "      <td>C</td>\n",
       "      <td>Y</td>\n",
       "      <td>Z</td>\n",
       "      <td>3</td>\n",
       "      <td>3</td>\n",
       "    </tr>\n",
       "    <tr>\n",
       "      <th>3</th>\n",
       "      <td>C</td>\n",
       "      <td>Z</td>\n",
       "      <td>X</td>\n",
       "      <td>1</td>\n",
       "      <td>6</td>\n",
       "    </tr>\n",
       "    <tr>\n",
       "      <th>4</th>\n",
       "      <td>C</td>\n",
       "      <td>Z</td>\n",
       "      <td>X</td>\n",
       "      <td>1</td>\n",
       "      <td>6</td>\n",
       "    </tr>\n",
       "  </tbody>\n",
       "</table>\n",
       "</div>"
      ],
      "text/plain": [
       "  opp result me  my_points  outcome_points\n",
       "0   C      Z  X          1               6\n",
       "1   C      Z  X          1               6\n",
       "2   C      Y  Z          3               3\n",
       "3   C      Z  X          1               6\n",
       "4   C      Z  X          1               6"
      ]
     },
     "execution_count": 6,
     "metadata": {},
     "output_type": "execute_result"
    }
   ],
   "source": [
    "df = pd.read_csv(file_path, delimiter=\" \", names=[\"opp\", \"result\"])\n",
    "\n",
    "# calculate me column\n",
    "# A, X = rock\n",
    "# B, Y = paper\n",
    "# C, Z = scissors\n",
    "# X = lose\n",
    "# Y = draw\n",
    "# Z = win\n",
    "result_conditions = [\n",
    "    (df['opp'] == \"A\") & (df['result'] == \"X\"),\n",
    "    (df['opp'] == \"A\") & (df['result'] == \"Y\"),\n",
    "    (df['opp'] == \"A\") & (df['result'] == \"Z\"),\n",
    "    (df['opp'] == \"B\") & (df['result'] == \"X\"),\n",
    "    (df['opp'] == \"B\") & (df['result'] == \"Y\"),\n",
    "    (df['opp'] == \"B\") & (df['result'] == \"Z\"),\n",
    "    (df['opp'] == \"C\") & (df['result'] == \"X\"),\n",
    "    (df['opp'] == \"C\") & (df['result'] == \"Y\"),\n",
    "    (df['opp'] == \"C\") & (df['result'] == \"Z\")\n",
    "]\n",
    "\n",
    "result_values = [\"Z\", \"X\", \"Y\", \"X\", \"Y\", \"Z\", \"Y\", \"Z\", \"X\"]\n",
    "\n",
    "df[\"me\"] = np.select(result_conditions, result_values)\n",
    "\n",
    "# points based on value of my play\n",
    "me_conditions = [\n",
    "    (df[\"me\"] == \"X\"),\n",
    "    (df[\"me\"] == \"Y\"),\n",
    "    (df[\"me\"] == \"Z\")\n",
    "]\n",
    "\n",
    "me_values = [1, 2, 3]\n",
    "\n",
    "df[\"my_points\"] = np.select(me_conditions, me_values)\n",
    "\n",
    "# points based on match outcome\n",
    "\n",
    "outcome_conditions = [\n",
    "    (df[\"me\"] == \"X\") & (df[\"opp\"] == \"B\"),\n",
    "    (df[\"me\"] == \"Y\") & (df[\"opp\"] == \"C\"),\n",
    "    (df[\"me\"] == \"Z\") & (df[\"opp\"] == \"A\"),\n",
    "    (df[\"me\"] == \"X\") & (df[\"opp\"] == \"A\"),\n",
    "    (df[\"me\"] == \"Y\") & (df[\"opp\"] == \"B\"),\n",
    "    (df[\"me\"] == \"Z\") & (df[\"opp\"] == \"C\"),\n",
    "    (df[\"me\"] == \"X\") & (df[\"opp\"] == \"C\"),\n",
    "    (df[\"me\"] == \"Y\") & (df[\"opp\"] == \"A\"),\n",
    "    (df[\"me\"] == \"Z\") & (df[\"opp\"] == \"B\")\n",
    "]\n",
    "\n",
    "outcome_values = [0, 0, 0, 3, 3, 3, 6, 6, 6]\n",
    "\n",
    "df[\"outcome_points\"] = np.select(outcome_conditions, outcome_values)\n",
    "\n",
    "#see what df looks like\n",
    "df.head()\n"
   ]
  },
  {
   "cell_type": "code",
   "execution_count": 7,
   "metadata": {},
   "outputs": [
    {
     "name": "stdout",
     "output_type": "stream",
     "text": [
      "My total score is 12881 points\n"
     ]
    }
   ],
   "source": [
    "# calculate sum of scores\n",
    "total_score = sum([df[\"my_points\"].sum(), df[\"outcome_points\"].sum()])\n",
    "print(f\"My total score is {total_score} points\")"
   ]
  }
 ],
 "metadata": {
  "kernelspec": {
   "display_name": "Python 3.10.8 ('aoc22')",
   "language": "python",
   "name": "python3"
  },
  "language_info": {
   "codemirror_mode": {
    "name": "ipython",
    "version": 3
   },
   "file_extension": ".py",
   "mimetype": "text/x-python",
   "name": "python",
   "nbconvert_exporter": "python",
   "pygments_lexer": "ipython3",
   "version": "3.10.8"
  },
  "orig_nbformat": 4,
  "vscode": {
   "interpreter": {
    "hash": "3abe43a7b14ab30bcef16b694c3b08ea28b3f20208e64dc741d05b0d0d789b98"
   }
  }
 },
 "nbformat": 4,
 "nbformat_minor": 2
}
