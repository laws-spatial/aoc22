{
 "cells": [
  {
   "cell_type": "code",
   "execution_count": 32,
   "metadata": {},
   "outputs": [],
   "source": [
    "from pathlib import Path"
   ]
  },
  {
   "cell_type": "code",
   "execution_count": 36,
   "metadata": {},
   "outputs": [],
   "source": [
    "# create Path object for file\n",
    "calories_file = \".\\calories.txt\"\n",
    "calories_path = Path(calories_file)"
   ]
  },
  {
   "cell_type": "code",
   "execution_count": 39,
   "metadata": {},
   "outputs": [
    {
     "name": "stdout",
     "output_type": "stream",
     "text": [
      "69501\n"
     ]
    }
   ],
   "source": [
    "with open(calories_path, \"r\") as f:\n",
    "    # read in files contents\n",
    "    text = f.readlines()\n",
    "\n",
    "    # join all lines into single string then split where\n",
    "    # two newline characters exist\n",
    "    split_text = \"\".join(text).split(\"\\n\\n\")\n",
    "\n",
    "    # create list of sums\n",
    "    sum_list = []\n",
    "\n",
    "    for text in split_text:\n",
    "        # split single string into multiple at newline\n",
    "        nums_as_strs_list = list(text.split(\"\\n\"))\n",
    "\n",
    "        # if empty string exists, remove it from list\n",
    "        if \"\" in nums_as_strs_list:\n",
    "            nums_as_strs_list.remove(\"\")\n",
    "\n",
    "        # convert strings to ints    \n",
    "        int_list = [eval(i) for i in nums_as_strs_list]\n",
    "\n",
    "        # sum integers\n",
    "        sum_of_ints = sum(int_list)\n",
    "\n",
    "        # append to list of sums\n",
    "        sum_list.append(sum_of_ints)\n",
    "\n",
    "    # finx maximum calories\n",
    "    max_calories = max(sum_list)\n",
    "    print(max_calories)"
   ]
  }
 ],
 "metadata": {
  "kernelspec": {
   "display_name": "Python 3.10.8 ('aoc22')",
   "language": "python",
   "name": "python3"
  },
  "language_info": {
   "codemirror_mode": {
    "name": "ipython",
    "version": 3
   },
   "file_extension": ".py",
   "mimetype": "text/x-python",
   "name": "python",
   "nbconvert_exporter": "python",
   "pygments_lexer": "ipython3",
   "version": "3.10.8"
  },
  "orig_nbformat": 4,
  "vscode": {
   "interpreter": {
    "hash": "3abe43a7b14ab30bcef16b694c3b08ea28b3f20208e64dc741d05b0d0d789b98"
   }
  }
 },
 "nbformat": 4,
 "nbformat_minor": 2
}
